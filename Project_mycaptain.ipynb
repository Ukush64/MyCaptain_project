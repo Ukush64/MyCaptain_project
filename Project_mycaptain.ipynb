{
 "cells": [
  {
   "cell_type": "code",
   "execution_count": 1,
   "id": "7b0348c0",
   "metadata": {},
   "outputs": [
    {
     "name": "stdout",
     "output_type": "stream",
     "text": [
      "Union : {0, 1, 2, 3, 4, 5, 6, 8}\n"
     ]
    }
   ],
   "source": [
    "# Program to perform different set operations\n",
    "\n",
    "# sets are define\n",
    "A = {0, 2, 4, 6, 8};\n",
    "B = {1, 2, 3, 4, 5};\n",
    "\n",
    "# union\n",
    "print(\"Union :\", A | B)"
   ]
  },
  {
   "cell_type": "code",
   "execution_count": 2,
   "id": "7030f34a",
   "metadata": {},
   "outputs": [
    {
     "name": "stdout",
     "output_type": "stream",
     "text": [
      "Intersection : {2, 4}\n"
     ]
    }
   ],
   "source": [
    "# intersection\n",
    "print(\"Intersection :\", A & B)"
   ]
  },
  {
   "cell_type": "code",
   "execution_count": 3,
   "id": "36d27a2d",
   "metadata": {},
   "outputs": [
    {
     "name": "stdout",
     "output_type": "stream",
     "text": [
      "Difference : {0, 8, 6}\n"
     ]
    }
   ],
   "source": [
    "# difference\n",
    "print(\"Difference :\", A - B)"
   ]
  },
  {
   "cell_type": "code",
   "execution_count": 4,
   "id": "54e5f611",
   "metadata": {},
   "outputs": [
    {
     "name": "stdout",
     "output_type": "stream",
     "text": [
      "Symmetric difference : {0, 1, 3, 5, 6, 8}\n"
     ]
    }
   ],
   "source": [
    "# symmetric difference\n",
    "print(\"Symmetric difference :\", A ^ B)"
   ]
  }
 ],
 "metadata": {
  "kernelspec": {
   "display_name": "Python 3 (ipykernel)",
   "language": "python",
   "name": "python3"
  },
  "language_info": {
   "codemirror_mode": {
    "name": "ipython",
    "version": 3
   },
   "file_extension": ".py",
   "mimetype": "text/x-python",
   "name": "python",
   "nbconvert_exporter": "python",
   "pygments_lexer": "ipython3",
   "version": "3.10.10"
  }
 },
 "nbformat": 4,
 "nbformat_minor": 5
}
